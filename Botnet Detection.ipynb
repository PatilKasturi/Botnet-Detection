{
 "cells": [
  {
   "cell_type": "markdown",
   "metadata": {},
   "source": [
    "## Botnet Detection\n",
    "-----"
   ]
  },
  {
   "cell_type": "markdown",
   "metadata": {},
   "source": [
    "* The CTU-13 is a dataset of botnet traffic that was captured in the CTU University, Czech Republic, in 2011. The goal of the dataset was to have a large capture of real botnet traffic mixed with normal traffic and background traffic. The CTU-13 dataset consists in thirteen captures (called scenarios) of different botnet samples. On each scenario we executed a specific malware, which used several protocols and performed different actions, please check the following link for more information.\n",
    "https://mcfp.weebly.com/the-ctu-13-dataset-a-labeled-dataset-with-botnet-normal-and-background-traffic.html\n",
    "\n",
    "* Each scenario was captured in a pcap file that contains all the packets of the three types of traffic. These pcap files were processed to obtain other type of information, such as NetFlows, WebLogs, etc. The first analysis of the CTU-13 dataset used unidirectional NetFlows to represent the traffic and to assign the labels. These unidirectional NetFlows should not be used because they were outperformed by our second analysis of the dataset, which used bidirectional NetFlows. The bidirectional NetFlows have several advantages over the directional ones.\n",
    "\n",
    "* Dataset source: https://mcfp.felk.cvut.cz/publicDatasets/CTU-Malware-Capture-Botnet-42/"
   ]
  },
  {
   "cell_type": "markdown",
   "metadata": {},
   "source": [
    "### Loading Packages and Dependencies\n",
    "-----"
   ]
  },
  {
   "cell_type": "code",
   "execution_count": 21,
   "metadata": {},
   "outputs": [],
   "source": [
    "import pandas as pd\n",
    "import numpy as np\n",
    "import matplotlib.pyplot as plt\n",
    "import seaborn as sns\n",
    "from sklearn.model_selection import train_test_split\n",
    "from sklearn.preprocessing import StandardScaler\n",
    "from sklearn.ensemble import RandomForestClassifier\n",
    "from sklearn.linear_model import LogisticRegression\n",
    "from sklearn.naive_bayes import MultinomialNB, GaussianNB\n",
    "from sklearn.tree import DecisionTreeClassifier\n",
    "from sklearn.metrics import accuracy_score, classification_report\n",
    "import warnings\n",
    "warnings.filterwarnings('ignore')"
   ]
  },
  {
   "cell_type": "markdown",
   "metadata": {},
   "source": [
    "### Loading Dataset\n",
    "----"
   ]
  },
  {
   "cell_type": "code",
   "execution_count": 2,
   "metadata": {},
   "outputs": [
    {
     "name": "stdout",
     "output_type": "stream",
     "text": [
      "Rows: 40961 Columns: 33\n"
     ]
    },
    {
     "data": {
      "text/html": [
       "<div>\n",
       "<style scoped>\n",
       "    .dataframe tbody tr th:only-of-type {\n",
       "        vertical-align: middle;\n",
       "    }\n",
       "\n",
       "    .dataframe tbody tr th {\n",
       "        vertical-align: top;\n",
       "    }\n",
       "\n",
       "    .dataframe thead th {\n",
       "        text-align: right;\n",
       "    }\n",
       "</style>\n",
       "<table border=\"1\" class=\"dataframe\">\n",
       "  <thead>\n",
       "    <tr style=\"text-align: right;\">\n",
       "      <th></th>\n",
       "      <th>SrcAddr</th>\n",
       "      <th>DstAddr</th>\n",
       "      <th>Proto</th>\n",
       "      <th>Sport</th>\n",
       "      <th>Dport</th>\n",
       "      <th>State</th>\n",
       "      <th>sTos</th>\n",
       "      <th>dTos</th>\n",
       "      <th>SrcWin</th>\n",
       "      <th>DstWin</th>\n",
       "      <th>...</th>\n",
       "      <th>SAppBytes</th>\n",
       "      <th>DAppBytes</th>\n",
       "      <th>Dur</th>\n",
       "      <th>TotPkts</th>\n",
       "      <th>TotBytes</th>\n",
       "      <th>TotAppByte</th>\n",
       "      <th>Rate</th>\n",
       "      <th>SrcRate</th>\n",
       "      <th>DstRate</th>\n",
       "      <th>Label</th>\n",
       "    </tr>\n",
       "  </thead>\n",
       "  <tbody>\n",
       "    <tr>\n",
       "      <th>2625022</th>\n",
       "      <td>147.32.84.165</td>\n",
       "      <td>147.32.80.9</td>\n",
       "      <td>udp</td>\n",
       "      <td>2077</td>\n",
       "      <td>53</td>\n",
       "      <td>CON</td>\n",
       "      <td>0.0</td>\n",
       "      <td>0.0</td>\n",
       "      <td>NaN</td>\n",
       "      <td>NaN</td>\n",
       "      <td>...</td>\n",
       "      <td>28</td>\n",
       "      <td>28</td>\n",
       "      <td>25.923828</td>\n",
       "      <td>2</td>\n",
       "      <td>140</td>\n",
       "      <td>56</td>\n",
       "      <td>0.038575</td>\n",
       "      <td>0.0</td>\n",
       "      <td>0.0</td>\n",
       "      <td>flow=From-Botnet-V42-UDP-DNS</td>\n",
       "    </tr>\n",
       "    <tr>\n",
       "      <th>1492205</th>\n",
       "      <td>147.32.84.165</td>\n",
       "      <td>192.228.79.201</td>\n",
       "      <td>udp</td>\n",
       "      <td>2079</td>\n",
       "      <td>53</td>\n",
       "      <td>CON</td>\n",
       "      <td>0.0</td>\n",
       "      <td>0.0</td>\n",
       "      <td>NaN</td>\n",
       "      <td>NaN</td>\n",
       "      <td>...</td>\n",
       "      <td>35</td>\n",
       "      <td>495</td>\n",
       "      <td>0.175091</td>\n",
       "      <td>2</td>\n",
       "      <td>614</td>\n",
       "      <td>530</td>\n",
       "      <td>5.711316</td>\n",
       "      <td>0.0</td>\n",
       "      <td>0.0</td>\n",
       "      <td>flow=From-Botnet-V42-UDP-DNS</td>\n",
       "    </tr>\n",
       "    <tr>\n",
       "      <th>1791248</th>\n",
       "      <td>147.32.84.165</td>\n",
       "      <td>204.93.160.141</td>\n",
       "      <td>udp</td>\n",
       "      <td>2077</td>\n",
       "      <td>53</td>\n",
       "      <td>CON</td>\n",
       "      <td>0.0</td>\n",
       "      <td>0.0</td>\n",
       "      <td>NaN</td>\n",
       "      <td>NaN</td>\n",
       "      <td>...</td>\n",
       "      <td>43</td>\n",
       "      <td>129</td>\n",
       "      <td>0.161992</td>\n",
       "      <td>2</td>\n",
       "      <td>256</td>\n",
       "      <td>172</td>\n",
       "      <td>6.173144</td>\n",
       "      <td>0.0</td>\n",
       "      <td>0.0</td>\n",
       "      <td>flow=From-Botnet-V42-UDP-DNS</td>\n",
       "    </tr>\n",
       "    <tr>\n",
       "      <th>1734922</th>\n",
       "      <td>147.32.84.165</td>\n",
       "      <td>202.12.27.33</td>\n",
       "      <td>udp</td>\n",
       "      <td>2079</td>\n",
       "      <td>53</td>\n",
       "      <td>CON</td>\n",
       "      <td>0.0</td>\n",
       "      <td>0.0</td>\n",
       "      <td>NaN</td>\n",
       "      <td>NaN</td>\n",
       "      <td>...</td>\n",
       "      <td>30</td>\n",
       "      <td>284</td>\n",
       "      <td>0.023075</td>\n",
       "      <td>2</td>\n",
       "      <td>398</td>\n",
       "      <td>314</td>\n",
       "      <td>43.336945</td>\n",
       "      <td>0.0</td>\n",
       "      <td>0.0</td>\n",
       "      <td>flow=From-Botnet-V42-UDP-DNS</td>\n",
       "    </tr>\n",
       "    <tr>\n",
       "      <th>1428214</th>\n",
       "      <td>147.32.84.165</td>\n",
       "      <td>198.41.0.4</td>\n",
       "      <td>udp</td>\n",
       "      <td>2079</td>\n",
       "      <td>53</td>\n",
       "      <td>CON</td>\n",
       "      <td>0.0</td>\n",
       "      <td>0.0</td>\n",
       "      <td>NaN</td>\n",
       "      <td>NaN</td>\n",
       "      <td>...</td>\n",
       "      <td>34</td>\n",
       "      <td>426</td>\n",
       "      <td>0.024109</td>\n",
       "      <td>2</td>\n",
       "      <td>544</td>\n",
       "      <td>460</td>\n",
       "      <td>41.478287</td>\n",
       "      <td>0.0</td>\n",
       "      <td>0.0</td>\n",
       "      <td>flow=From-Botnet-V42-UDP-DNS</td>\n",
       "    </tr>\n",
       "  </tbody>\n",
       "</table>\n",
       "<p>5 rows × 33 columns</p>\n",
       "</div>"
      ],
      "text/plain": [
       "               SrcAddr         DstAddr Proto Sport Dport State  sTos  dTos  \\\n",
       "2625022  147.32.84.165     147.32.80.9   udp  2077    53   CON   0.0   0.0   \n",
       "1492205  147.32.84.165  192.228.79.201   udp  2079    53   CON   0.0   0.0   \n",
       "1791248  147.32.84.165  204.93.160.141   udp  2077    53   CON   0.0   0.0   \n",
       "1734922  147.32.84.165    202.12.27.33   udp  2079    53   CON   0.0   0.0   \n",
       "1428214  147.32.84.165      198.41.0.4   udp  2079    53   CON   0.0   0.0   \n",
       "\n",
       "         SrcWin  DstWin  ...  SAppBytes  DAppBytes        Dur TotPkts  \\\n",
       "2625022     NaN     NaN  ...         28         28  25.923828       2   \n",
       "1492205     NaN     NaN  ...         35        495   0.175091       2   \n",
       "1791248     NaN     NaN  ...         43        129   0.161992       2   \n",
       "1734922     NaN     NaN  ...         30        284   0.023075       2   \n",
       "1428214     NaN     NaN  ...         34        426   0.024109       2   \n",
       "\n",
       "         TotBytes  TotAppByte       Rate  SrcRate  DstRate  \\\n",
       "2625022       140          56   0.038575      0.0      0.0   \n",
       "1492205       614         530   5.711316      0.0      0.0   \n",
       "1791248       256         172   6.173144      0.0      0.0   \n",
       "1734922       398         314  43.336945      0.0      0.0   \n",
       "1428214       544         460  41.478287      0.0      0.0   \n",
       "\n",
       "                                Label  \n",
       "2625022  flow=From-Botnet-V42-UDP-DNS  \n",
       "1492205  flow=From-Botnet-V42-UDP-DNS  \n",
       "1791248  flow=From-Botnet-V42-UDP-DNS  \n",
       "1734922  flow=From-Botnet-V42-UDP-DNS  \n",
       "1428214  flow=From-Botnet-V42-UDP-DNS  \n",
       "\n",
       "[5 rows x 33 columns]"
      ]
     },
     "execution_count": 2,
     "metadata": {},
     "output_type": "execute_result"
    }
   ],
   "source": [
    "dataset = pd.read_csv('D:\\\\Botnet Detection\\\\capture20110810.binetflow.2format')\n",
    "dataset = dataset[dataset['Label'].str.contains('Botnet')] #Getting the bot net data\n",
    "print('Rows:',dataset.shape[0], 'Columns:', dataset.shape[1])\n",
    "dataset.sample(5)"
   ]
  },
  {
   "cell_type": "code",
   "execution_count": 39,
   "metadata": {},
   "outputs": [
    {
     "data": {
      "text/plain": [
       "68"
      ]
     },
     "execution_count": 39,
     "metadata": {},
     "output_type": "execute_result"
    }
   ],
   "source": [
    "dataset['Label'].nunique()"
   ]
  },
  {
   "cell_type": "markdown",
   "metadata": {},
   "source": [
    "### Checking Missing Values\n",
    "----"
   ]
  },
  {
   "cell_type": "code",
   "execution_count": 3,
   "metadata": {},
   "outputs": [
    {
     "data": {
      "image/png": "[encoded data removed]",
      "text/plain": [
       "<Figure size 1152x360 with 1 Axes>"
      ]
     },
     "metadata": {
      "needs_background": "light"
     },
     "output_type": "display_data"
    }
   ],
   "source": [
    "#Visualizing the Missing value\n",
    "plt.figure(figsize=(16,5))\n",
    "sns.set_style('whitegrid')\n",
    "plt.title('% of Missing Values')\n",
    "sns.barplot(x=dataset.isnull().mean().index, y=dataset.isnull().mean().values)\n",
    "plt.xlabel('Columns')\n",
    "plt.xticks(rotation=45)\n",
    "plt.ylabel('Frequency')\n",
    "plt.show()\n",
    "\n",
    "# Removed all the columns with missing value > 30%\n",
    "dataset = dataset.loc[:, dataset.isnull().mean() < 0.3] "
   ]
  },
  {
   "cell_type": "markdown",
   "metadata": {},
   "source": [
    "### Feature Engineering\n",
    "-----"
   ]
  },
  {
   "cell_type": "code",
   "execution_count": 4,
   "metadata": {},
   "outputs": [],
   "source": [
    "dataset = dataset.astype({\"Proto\":'category',\"Sport\":'category',\"Dport\":'category',\"State\":'category','StartTime':'datetime64[s]','LastTime':'datetime64[s]'}) # Changing the datatype of the columns\n",
    "dataset['duration'] = abs(dataset['LastTime'].dt.second - dataset['StartTime'].dt.second) # getting duration from the columns 'LastTime' and 'StartTime'\n",
    "dataset.drop(columns=['SrcAddr','DstAddr','LastTime','StartTime'],inplace=True) #Dropping the column SrcAddr and DstAddr since they contain unique ip addresses"
   ]
  },
  {
   "cell_type": "markdown",
   "metadata": {},
   "source": [
    "### Data Visualization\n",
    "---"
   ]
  },
  {
   "cell_type": "code",
   "execution_count": 6,
   "metadata": {},
   "outputs": [
    {
     "data": {
      "image/png": "[encoded data removed]",
      "text/plain": [
       "<Figure size 720x360 with 1 Axes>"
      ]
     },
     "metadata": {},
     "output_type": "display_data"
    },
    {
     "data": {
      "image/png": "[encoded data removed]",
      "text/plain": [
       "<Figure size 720x360 with 1 Axes>"
      ]
     },
     "metadata": {},
     "output_type": "display_data"
    },
    {
     "data": {
      "image/png": "[encoded data removed]",
      "text/plain": [
       "<Figure size 720x360 with 1 Axes>"
      ]
     },
     "metadata": {},
     "output_type": "display_data"
    },
    {
     "data": {
      "image/png": "[encoded data removed]",
      "text/plain": [
       "<Figure size 720x360 with 1 Axes>"
      ]
     },
     "metadata": {},
     "output_type": "display_data"
    }
   ],
   "source": [
    "#Analyzing categorical valriable\n",
    "def barchart(columns):\n",
    "    plt.figure(figsize=(10,5))\n",
    "    plt.title(f'{columns}')\n",
    "    sns.countplot(x=dataset[f'{columns}'].value_counts().values)\n",
    "    plt.xlabel(f'{columns}')\n",
    "    plt.xticks(rotation=45)\n",
    "    plt.ylabel('Frequency')\n",
    "    plt.show()\n",
    "    \n",
    "categorical_columns = dataset.select_dtypes(exclude=['int64', 'float64']).columns.values      \n",
    "for column in categorical_columns:\n",
    "    if column != 'Label':\n",
    "        barchart(column)"
   ]
  },
  {
   "cell_type": "markdown",
   "metadata": {},
   "source": [
    "### Model Building\n",
    "----"
   ]
  },
  {
   "cell_type": "code",
   "execution_count": 8,
   "metadata": {},
   "outputs": [],
   "source": [
    "dataset = pd.get_dummies(dataset,columns=categorical_columns[:-1],drop_first=True)\n",
    "X = dataset.loc[:, dataset.columns != 'Label']\n",
    "y = dataset.loc[:, dataset.columns == 'Label']"
   ]
  },
  {
   "cell_type": "code",
   "execution_count": 11,
   "metadata": {},
   "outputs": [],
   "source": [
    "Xtrain, Xtest, ytrain, ytest = train_test_split(X,y,test_size=0.2,random_state=45)"
   ]
  },
  {
   "cell_type": "code",
   "execution_count": 18,
   "metadata": {},
   "outputs": [
    {
     "name": "stdout",
     "output_type": "stream",
     "text": [
      "Accuracy Score: 99.0 %\n"
     ]
    }
   ],
   "source": [
    "descision_tree_model = DecisionTreeClassifier()\n",
    "descision_tree_model.fit(Xtrain,ytrain)\n",
    "prediction = descision_tree_model.predict(Xtest)\n",
    "print('Decision Accuracy Score:',round(accuracy_score(ytest,prediction)*100),'%')"
   ]
  },
  {
   "cell_type": "code",
   "execution_count": 23,
   "metadata": {},
   "outputs": [
    {
     "name": "stdout",
     "output_type": "stream",
     "text": [
      "Naive Bayes Accuracy Score: 94.0 %\n"
     ]
    }
   ],
   "source": [
    "multinomial_naive_bayes = GaussianNB()\n",
    "multinomial_naive_bayes.fit(Xtrain,ytrain)\n",
    "prediction_naive = multinomial_naive_bayes.predict(Xtest)\n",
    "print('Naive Bayes Accuracy Score:',round(accuracy_score(ytest,prediction_naive)*100),'%')"
   ]
  },
  {
   "cell_type": "code",
   "execution_count": 26,
   "metadata": {},
   "outputs": [
    {
     "name": "stdout",
     "output_type": "stream",
     "text": [
      "Logistic Regression Accuracy Score: 84.0 %\n"
     ]
    }
   ],
   "source": [
    "Logistic_model = LogisticRegression(C=1000)\n",
    "Logistic_model.fit(Xtrain,ytrain)\n",
    "prediction_Logistic = Logistic_model.predict(Xtest)\n",
    "print('Logistic Regression Accuracy Score:',round(accuracy_score(ytest,prediction_Logistic)*100),'%')"
   ]
  },
  {
   "cell_type": "code",
   "execution_count": 29,
   "metadata": {},
   "outputs": [
    {
     "name": "stdout",
     "output_type": "stream",
     "text": [
      "Random Forest Accuracy Score: 99.0 %\n"
     ]
    }
   ],
   "source": [
    "Random_forest_model = RandomForestClassifier(class_weight='balanced')\n",
    "Random_forest_model.fit(Xtrain,ytrain)\n",
    "prediction_Random_forest_model = Random_forest_model.predict(Xtest)\n",
    "print('Random Forest Accuracy Score:',round(accuracy_score(ytest,prediction_Random_forest_model)*100),'%')"
   ]
  }
 ],
 "metadata": {
  "kernelspec": {
   "display_name": "Python 3",
   "language": "python",
   "name": "python3"
  },
  "language_info": {
   "codemirror_mode": {
    "name": "ipython",
    "version": 3
   },
   "file_extension": ".py",
   "mimetype": "text/x-python",
   "name": "python",
   "nbconvert_exporter": "python",
   "pygments_lexer": "ipython3",
   "version": "3.7.6"
  }
 },
 "nbformat": 4,
 "nbformat_minor": 4
}
